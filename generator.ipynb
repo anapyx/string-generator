{
 "cells": [
  {
   "cell_type": "markdown",
   "metadata": {},
   "source": [
    "## Reading the Grammar file"
   ]
  },
  {
   "cell_type": "code",
   "execution_count": 19,
   "metadata": {},
   "outputs": [
    {
     "name": "stdout",
     "output_type": "stream",
     "text": [
      "['variaveis:S,A,B\\n', 'inicial:S\\n', 'terminais:a,b,c,d\\n', 'S: aA\\n', 'S: bB\\n', 'A: epsilon']\n"
     ]
    }
   ],
   "source": [
    "with open('grammar.txt') as file:\n",
    "    Lines = file.readlines()\n",
    "\n",
    "Lines.remove('\\n')\n",
    "Lines.remove('producoes\\n')"
   ]
  },
  {
   "cell_type": "code",
   "execution_count": 27,
   "metadata": {},
   "outputs": [
    {
     "name": "stdout",
     "output_type": "stream",
     "text": [
      "['S', 'A', 'B']\n",
      "S\n",
      "['a', 'b', 'c', 'd']\n",
      "['S: aA', 'S: bB', 'A: epsilon']\n"
     ]
    }
   ],
   "source": [
    "prod_list = []\n",
    "\n",
    "for line in Lines:\n",
    "    if line.startswith('variaveis'):\n",
    "         nonterminal = line.strip()\n",
    "         nonterminal = nonterminal.replace('variaveis:','')\n",
    "         nonterminal = nonterminal.split(',')\n",
    "    elif line.startswith('inicial'):\n",
    "        start = line.strip()\n",
    "        start = start.replace('inicial:','')  \n",
    "    elif line.startswith('terminais'):\n",
    "        terminal = line.strip()\n",
    "        terminal = terminal.replace('terminais:','')\n",
    "        terminal = terminal.split(',')\n",
    "    else:\n",
    "        prod_list.append(line.strip())"
   ]
  },
  {
   "cell_type": "code",
   "execution_count": 45,
   "metadata": {},
   "outputs": [
    {
     "name": "stdout",
     "output_type": "stream",
     "text": [
      "['S', 'aA']\n",
      "['S', 'bB']\n",
      "['A', 'epsilon']\n",
      "{'S': ['aA', 'bB'], 'A': ['epsilon']}\n"
     ]
    }
   ],
   "source": [
    "productions = {}\n",
    "prod_list = tuple(prod_list)\n",
    "\n",
    "for prod in prod_list:\n",
    "    if prod.startswith(prod_list):\n",
    "        prod = prod.split(': ')\n",
    "        productions.setdefault(prod[0], [])\n",
    "        productions[prod[0]].append(prod[1])"
   ]
  },
  {
   "cell_type": "markdown",
   "metadata": {},
   "source": [
    "## Fast Mode"
   ]
  },
  {
   "cell_type": "markdown",
   "metadata": {},
   "source": [
    "## Detailed Mode"
   ]
  }
 ],
 "metadata": {
  "kernelspec": {
   "display_name": ".venv",
   "language": "python",
   "name": "python3"
  },
  "language_info": {
   "codemirror_mode": {
    "name": "ipython",
    "version": 3
   },
   "file_extension": ".py",
   "mimetype": "text/x-python",
   "name": "python",
   "nbconvert_exporter": "python",
   "pygments_lexer": "ipython3",
   "version": "3.11.7"
  }
 },
 "nbformat": 4,
 "nbformat_minor": 2
}
