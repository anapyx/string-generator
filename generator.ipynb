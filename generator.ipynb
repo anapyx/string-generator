{
 "cells": [
  {
   "cell_type": "markdown",
   "metadata": {},
   "source": [
    "## Reading the Grammar file"
   ]
  },
  {
   "cell_type": "code",
   "execution_count": 7,
   "metadata": {},
   "outputs": [],
   "source": [
    "import re"
   ]
  },
  {
   "cell_type": "code",
   "execution_count": 15,
   "metadata": {},
   "outputs": [
    {
     "name": "stdout",
     "output_type": "stream",
     "text": [
      "['variaveis:S,A,B\\n', 'inicial:S\\n', 'terminais:0,1\\n', 'S: 0A\\n', 'S: 1B\\n', 'S: epsilon\\n', 'A: 1S\\n', 'A: 0AA\\n', 'B: 0S\\n', 'B: 1BB']\n"
     ]
    }
   ],
   "source": [
    "with open('grammar.txt') as file:\n",
    "    Lines = file.readlines()\n",
    "\n",
    "Lines.remove('\\n')\n",
    "Lines.remove('producoes\\n')\n",
    "print(Lines)"
   ]
  },
  {
   "cell_type": "code",
   "execution_count": 18,
   "metadata": {},
   "outputs": [],
   "source": [
    "prod_list = []\n",
    "\n",
    "for line in Lines:\n",
    "    # to remove every tab, space and new line\n",
    "    line = re.sub(r'[\\n\\t\\s]*', '', line)\n",
    "\n",
    "    if line.startswith('variaveis'):\n",
    "        line = line.replace('variaveis','')\n",
    "        line = line.replace(':','')\n",
    "        nonterminal = line.split(',')\n",
    "\n",
    "    elif line.startswith('inicial'):\n",
    "        start = start.replace('inicial','')\n",
    "        start = start.replace(':','')\n",
    "\n",
    "    elif line.startswith('terminais'):\n",
    "        terminal = line.strip()\n",
    "        terminal = terminal.replace('terminais','')\n",
    "        terminal = terminal.replace(':','')\n",
    "        terminal = terminal.split(',')\n",
    "    elif line:\n",
    "        prod_list.append(line.strip())\n"
   ]
  },
  {
   "cell_type": "code",
   "execution_count": 11,
   "metadata": {},
   "outputs": [
    {
     "name": "stdout",
     "output_type": "stream",
     "text": [
      "{'S': ['0A', '1B', 'epsilon'], 'A': ['1S', '0AA'], 'B': ['0S', '1BB']}\n"
     ]
    }
   ],
   "source": [
    "productions = {}\n",
    "prod_list = tuple(prod_list)\n",
    "\n",
    "for prod in prod_list:\n",
    "    if prod.startswith(prod_list):\n",
    "        prod = prod.split(':')\n",
    "        productions.setdefault(prod[0], [])\n",
    "        productions[prod[0]].append(prod[1])\n",
    "\n",
    "print(productions)"
   ]
  },
  {
   "cell_type": "markdown",
   "metadata": {},
   "source": [
    "## Fast Mode"
   ]
  },
  {
   "cell_type": "markdown",
   "metadata": {},
   "source": [
    "## Detailed Mode"
   ]
  },
  {
   "cell_type": "code",
   "execution_count": null,
   "metadata": {},
   "outputs": [],
   "source": []
  }
 ],
 "metadata": {
  "kernelspec": {
   "display_name": ".venv",
   "language": "python",
   "name": "python3"
  },
  "language_info": {
   "codemirror_mode": {
    "name": "ipython",
    "version": 3
   },
   "file_extension": ".py",
   "mimetype": "text/x-python",
   "name": "python",
   "nbconvert_exporter": "python",
   "pygments_lexer": "ipython3",
   "version": "3.11.7"
  }
 },
 "nbformat": 4,
 "nbformat_minor": 2
}
