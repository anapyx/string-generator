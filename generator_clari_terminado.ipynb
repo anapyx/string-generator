{
  "cells": [
    {
      "cell_type": "markdown",
      "metadata": {
        "id": "WmIWkh3n2ypc"
      },
      "source": [
        "## Reading the Grammar file"
      ]
    },
    {
      "cell_type": "code",
      "execution_count": 19,
      "metadata": {
        "id": "JqnWcAED2ypf"
      },
      "outputs": [],
      "source": [
        "import re"
      ]
    },
    {
      "cell_type": "code",
      "source": [
        "def read_inst_file(path_file):\n",
        "  with open(path_file) as file:\n",
        "    lines = file.readlines()\n",
        "\n",
        "  variables = None\n",
        "  initial_var = None\n",
        "  terminals = None\n",
        "  production_dictionary = {}\n",
        "  start_read_productions = False\n",
        "\n",
        "  for line in lines:\n",
        "    if not start_read_productions:\n",
        "      if line.startswith('variaveis'):\n",
        "        variables = line.strip()\n",
        "        variables = variables.replace('variaveis:','')\n",
        "        variables = variables.split(',')\n",
        "\n",
        "        for i in variables:\n",
        "          production_dictionary[i] = []\n",
        "      elif line.startswith('inicial'):\n",
        "        initial_var = line.strip()\n",
        "        initial_var = initial_var.replace('inicial:','')\n",
        "      elif line.startswith('terminais'):\n",
        "        terminals = line.strip()\n",
        "        terminals = terminals.replace('terminais:','')\n",
        "        terminals = terminals.split(',')\n",
        "      elif line.startswith('producoes'):\n",
        "        start_read_productions = True\n",
        "    else:\n",
        "        line = line.split(': ')\n",
        "        if line[1][len(line[1]) - 1] == '\\n':\n",
        "          line[1] = line[1][: -1]\n",
        "        production_dictionary[line[0]].append(line[1])\n",
        "\n",
        "  return variables, initial_var, terminals, production_dictionary"
      ],
      "metadata": {
        "id": "LoguHFON4uat"
      },
      "execution_count": 48,
      "outputs": []
    },
    {
      "cell_type": "markdown",
      "metadata": {
        "id": "NT6-Grer2yph"
      },
      "source": [
        "## Fast Mode"
      ]
    },
    {
      "cell_type": "code",
      "execution_count": 54,
      "metadata": {
        "id": "YV3TYgsk2ypg"
      },
      "outputs": [],
      "source": [
        "def fast_mode():\n",
        "  variables, initial_var, terminals, production_dictionary = read_inst_file(\"test.txt\")\n",
        "\n",
        "  chain = \"\"\n",
        "  chain_path = []\n",
        "  chain_path.append(\"epsilon\")\n",
        "  epsilon_possibility = None\n",
        "\n",
        "  for x in production_dictionary:\n",
        "    for y in production_dictionary[x]:\n",
        "      if y == \"epsilon\":\n",
        "        chain_path.append(x)\n",
        "        break\n",
        "    if len(chain_path) != 0:\n",
        "      break\n",
        "\n",
        "  i = 1\n",
        "  while chain_path[i - 1] != initial_var:\n",
        "    for x in production_dictionary:\n",
        "      for y in production_dictionary[x]:\n",
        "        if chain_path[i - 1] in y:\n",
        "          chain_path.append(x)\n",
        "          i += 1\n",
        "          break\n",
        "      if chain_path[i - 1] == initial_var:\n",
        "        break\n",
        "\n",
        "  print(\"Derivacao:\")\n",
        "  chain_sub_str = []\n",
        "  chain_sub_str.append(str(chain_path[len(chain_path) - 1]) + \" -> \")\n",
        "  chain += chain_sub_str[0]\n",
        "  j = 0\n",
        "  for i in range(len(chain_path)-1, 0, -1):\n",
        "    for x in production_dictionary[chain_path[i]]:\n",
        "      if chain_path[i - 1] in x:\n",
        "        match = re.search(r'(.*?)(?= ->)', chain_sub_str[j])\n",
        "        if match:\n",
        "          if \"epsilon\" in x:\n",
        "            x = \"\"\n",
        "            aux = match.group(0).replace(chain_path[i], x, 1)\n",
        "            chain_sub_str.append(aux)\n",
        "          else:\n",
        "            aux = match.group(0).replace(chain_path[i], x, 1)\n",
        "            chain_sub_str.append(aux + \" -> \")\n",
        "          j += 1\n",
        "          chain += chain_sub_str[j]\n",
        "\n",
        "  print(chain)\n",
        "\n",
        "  print(\"Cadeia gerada:\")\n",
        "  print(chain_sub_str[len(chain_sub_str) - 1])"
      ]
    },
    {
      "cell_type": "code",
      "source": [
        "fast_mode()"
      ],
      "metadata": {
        "colab": {
          "base_uri": "https://localhost:8080/"
        },
        "id": "405xicA2FlOt",
        "outputId": "19d30d53-e24b-45c1-d313-cb8c66a4874a"
      },
      "execution_count": 61,
      "outputs": [
        {
          "output_type": "stream",
          "name": "stdout",
          "text": [
            "Derivacao:\n",
            "S -> bZ -> bdY -> bddX -> bdd\n",
            "Cadeia gerada:\n",
            "bdd\n"
          ]
        }
      ]
    },
    {
      "cell_type": "markdown",
      "metadata": {
        "id": "cYGMXjxK2yph"
      },
      "source": [
        "## Detailed Mode"
      ]
    },
    {
      "cell_type": "code",
      "source": [
        "def detailed_mode():\n",
        "  variables, initial_var, terminals, production_dictionary = read_inst_file(\"test.txt\")\n",
        "\n",
        "  chain_sub_str = initial_var + \" -> \"\n",
        "  chain = chain_sub_str\n",
        "  current_variable = initial_var\n",
        "  print(\"Derivacao:\")\n",
        "  print(chain)\n",
        "\n",
        "  while current_variable != \"epsilon\":\n",
        "    print(f\"Escolha a operacao de {current_variable}: \")\n",
        "    print(production_dictionary[current_variable])\n",
        "    operation = input()\n",
        "    operacao_valida = False\n",
        "    for x in production_dictionary[current_variable]:\n",
        "      if operation in x:\n",
        "        operacao_valida = True\n",
        "        break\n",
        "    if operacao_valida:\n",
        "      match = re.search(r'(.*?)(?= ->)', chain_sub_str)\n",
        "      if match:\n",
        "        if \"epsilon\" in operation:\n",
        "          aux = \"\"\n",
        "          aux = match.group(0).replace(current_variable, aux, 1)\n",
        "          chain_sub_str = aux\n",
        "        else:\n",
        "          aux = match.group(0).replace(current_variable, operation, 1)\n",
        "          chain_sub_str = aux + \" -> \"\n",
        "        chain += chain_sub_str\n",
        "        print(chain)\n",
        "      if operation == \"epsilon\":\n",
        "        current_variable = operation\n",
        "      else:\n",
        "        for x in variables:\n",
        "          if x in operation:\n",
        "            current_variable = x\n",
        "            break\n",
        "    else:\n",
        "      print(\"Operacao invalida!\")\n",
        "\n",
        "  print(\"\\nCadeia gerada:\")\n",
        "  print(chain_sub_str)"
      ],
      "metadata": {
        "id": "5KAwBqKVWzep"
      },
      "execution_count": 53,
      "outputs": []
    },
    {
      "cell_type": "code",
      "source": [
        "detailed_mode()"
      ],
      "metadata": {
        "colab": {
          "base_uri": "https://localhost:8080/"
        },
        "id": "_rOXroiIZndw",
        "outputId": "dd95cb34-2b61-4d7a-a42f-1a802634abc0"
      },
      "execution_count": 56,
      "outputs": [
        {
          "output_type": "stream",
          "name": "stdout",
          "text": [
            "Derivacao:\n",
            "S -> \n",
            "Escolha a operacao de S: \n",
            "['aX', 'aY', 'bY', 'bZ']\n",
            "bZ\n",
            "S -> bZ -> \n",
            "Escolha a operacao de Z: \n",
            "['S', 'dY', 'epsilon']\n",
            "epsilon\n",
            "S -> bZ -> b\n",
            "\n",
            "Cadeia gerada:\n",
            "b\n"
          ]
        }
      ]
    }
  ],
  "metadata": {
    "kernelspec": {
      "display_name": ".venv",
      "language": "python",
      "name": "python3"
    },
    "language_info": {
      "codemirror_mode": {
        "name": "ipython",
        "version": 3
      },
      "file_extension": ".py",
      "mimetype": "text/x-python",
      "name": "python",
      "nbconvert_exporter": "python",
      "pygments_lexer": "ipython3",
      "version": "3.11.7"
    },
    "colab": {
      "provenance": []
    }
  },
  "nbformat": 4,
  "nbformat_minor": 0
}